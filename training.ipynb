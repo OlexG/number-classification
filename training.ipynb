{
 "cells": [
  {
   "cell_type": "code",
   "execution_count": 201,
   "id": "961f34d1-c953-4fae-b46c-a2a87246d022",
   "metadata": {},
   "outputs": [],
   "source": [
    "import numpy\n",
    "from PIL import ImageTk, Image, ImageDraw\n",
    "import PIL\n",
    "from matplotlib.pyplot import imshow\n",
    "from matplotlib.pyplot import plot"
   ]
  },
  {
   "cell_type": "code",
   "execution_count": 164,
   "id": "ab21a477-978a-486c-9d16-76a071f81f64",
   "metadata": {},
   "outputs": [],
   "source": [
    "train = numpy.loadtxt(open(\"train.csv\", \"rb\"), delimiter=\",\", skiprows=1)\n",
    "numpy.random.shuffle(train)\n",
    "train, test = train[:5000, :], train[5000:, :]"
   ]
  },
  {
   "cell_type": "code",
   "execution_count": 183,
   "id": "96deb9c8-b612-4fde-b56a-5dce7522dcc0",
   "metadata": {},
   "outputs": [
    {
     "name": "stdout",
     "output_type": "stream",
     "text": [
      "(5000, 785)\n",
      "(37000, 785)\n"
     ]
    }
   ],
   "source": [
    "print(train.shape)\n",
    "print(test.shape)"
   ]
  },
  {
   "cell_type": "markdown",
   "id": "607ffcb6-25d3-4fd6-9f70-24539cc89aed",
   "metadata": {},
   "source": [
    "**Start with previewing some of the images**"
   ]
  },
  {
   "cell_type": "code",
   "execution_count": 202,
   "id": "8b60348b-e0d8-4ff4-bfb9-2adf02c69aa4",
   "metadata": {
    "tags": []
   },
   "outputs": [],
   "source": [
    "currentImage = 0\n",
    "\n",
    "def getNextImage():\n",
    "    global currentImage\n",
    "    img = Image.new('RGB', (28, 28))\n",
    "    print(train[currentImage][0])\n",
    "    for x in range(1, 785):\n",
    "        offset = x - 1\n",
    "        pixelvalue = round(train[currentImage][x])\n",
    "        img.putpixel((offset%28, offset//28), (pixelvalue,pixelvalue,pixelvalue))\n",
    "    currentImage += 1\n",
    "    return img"
   ]
  },
  {
   "cell_type": "code",
   "execution_count": 203,
   "id": "1c93daa7-2dbe-4056-b5af-d92578dd2063",
   "metadata": {},
   "outputs": [
    {
     "name": "stdout",
     "output_type": "stream",
     "text": [
      "8.0\n"
     ]
    },
    {
     "data": {
      "text/plain": [
       "<matplotlib.image.AxesImage at 0x1457397ebb0>"
      ]
     },
     "execution_count": 203,
     "metadata": {},
     "output_type": "execute_result"
    },
    {
     "data": {
      "image/png": "[encoded data removed]",
      "text/plain": [
       "<Figure size 432x288 with 1 Axes>"
      ]
     },
     "metadata": {
      "needs_background": "light"
     },
     "output_type": "display_data"
    }
   ],
   "source": [
    "first = getNextImage()\n",
    "imshow(numpy.asarray(first))"
   ]
  },
  {
   "cell_type": "code",
   "execution_count": 204,
   "id": "7841659b-7bb6-42dd-a250-1a3786b53755",
   "metadata": {},
   "outputs": [
    {
     "name": "stdout",
     "output_type": "stream",
     "text": [
      "2.0\n"
     ]
    },
    {
     "data": {
      "text/plain": [
       "<matplotlib.image.AxesImage at 0x14573507e50>"
      ]
     },
     "execution_count": 204,
     "metadata": {},
     "output_type": "execute_result"
    },
    {
     "data": {
      "image/png": "[encoded data removed]",
      "text/plain": [
       "<Figure size 432x288 with 1 Axes>"
      ]
     },
     "metadata": {
      "needs_background": "light"
     },
     "output_type": "display_data"
    }
   ],
   "source": [
    "second = getNextImage()\n",
    "imshow(numpy.asarray(second))"
   ]
  },
  {
   "cell_type": "code",
   "execution_count": 205,
   "id": "87f7b2a3-011d-462e-8d15-f86e042e6cff",
   "metadata": {},
   "outputs": [
    {
     "name": "stdout",
     "output_type": "stream",
     "text": [
      "2.0\n"
     ]
    },
    {
     "data": {
      "text/plain": [
       "<matplotlib.image.AxesImage at 0x1455cf1d910>"
      ]
     },
     "execution_count": 205,
     "metadata": {},
     "output_type": "execute_result"
    },
    {
     "data": {
      "image/png": "[encoded data removed]",
      "text/plain": [
       "<Figure size 432x288 with 1 Axes>"
      ]
     },
     "metadata": {
      "needs_background": "light"
     },
     "output_type": "display_data"
    }
   ],
   "source": [
    "third = getNextImage()\n",
    "imshow(numpy.asarray(third))"
   ]
  },
  {
   "cell_type": "markdown",
   "id": "d7ecaf19-ca34-41a4-9d81-8ed79e824971",
   "metadata": {},
   "source": [
    "**Training**"
   ]
  },
  {
   "cell_type": "code",
   "execution_count": 206,
   "id": "bf6ee8f4-b9fc-443a-8fe1-fa1fc058a176",
   "metadata": {},
   "outputs": [
    {
     "name": "stdout",
     "output_type": "stream",
     "text": [
      "3.0\n"
     ]
    },
    {
     "data": {
      "text/plain": [
       "<matplotlib.image.AxesImage at 0x14576882250>"
      ]
     },
     "execution_count": 206,
     "metadata": {},
     "output_type": "execute_result"
    },
    {
     "data": {
      "image/png": "[encoded data removed]",
      "text/plain": [
       "<Figure size 432x288 with 1 Axes>"
      ]
     },
     "metadata": {
      "needs_background": "light"
     },
     "output_type": "display_data"
    }
   ],
   "source": [
    "fourth = getNextImage()\n",
    "imshow(numpy.asarray(fourth))"
   ]
  },
  {
   "cell_type": "markdown",
   "id": "358524fc-eee1-40fa-8619-feec9c19bea7",
   "metadata": {},
   "source": [
    "**Training the model using gradient descent**"
   ]
  },
  {
   "cell_type": "code",
   "execution_count": 186,
   "id": "3b70547c-413f-45d5-9b7c-f24056eece99",
   "metadata": {},
   "outputs": [],
   "source": [
    "theta = (numpy.random.rand(784, 10) + 1)/10000"
   ]
  },
  {
   "cell_type": "code",
   "execution_count": 187,
   "id": "1561ec17-1bb6-48ac-9034-69119b2bdaa3",
   "metadata": {},
   "outputs": [],
   "source": [
    "import sigmoid\n",
    "def costFunction(theta, X, y):\n",
    "    m = X.shape[0]\n",
    "    preds = numpy.array(sigmoid.getSigmoid(numpy.matmul(X, theta)), dtype=float)\n",
    "    preds[preds == 0] = 0.000000001\n",
    "    preds[preds == 1] = 0.999999999\n",
    "    each = -1 * y * numpy.log(preds) - (1 - y) * numpy.log(1 - preds)\n",
    "    return 1/m * numpy.sum(each)"
   ]
  },
  {
   "cell_type": "code",
   "execution_count": 188,
   "id": "75176157-0b47-4866-887a-9c0ecd88455d",
   "metadata": {},
   "outputs": [
    {
     "name": "stdout",
     "output_type": "stream",
     "text": [
      "Initital cost for 0 3.3386102957311756\n",
      "Final cost for 0 0.026001359377988833\n",
      "Initital cost for 1 3.7222778474060574\n",
      "Final cost for 1 0.024730095649882572\n",
      "Initital cost for 2 3.5218582081158196\n",
      "Final cost for 2 0.08039749330139749\n",
      "Initital cost for 3 3.5320070790443125\n",
      "Final cost for 3 0.09256021097682461\n",
      "Initital cost for 4 3.6303043981396597\n",
      "Final cost for 4 0.0555467244212284\n",
      "Initital cost for 5 3.635883085904658\n",
      "Final cost for 5 0.08638041534069558\n",
      "Initital cost for 6 3.522286675254622\n",
      "Final cost for 6 0.03916135221855766\n",
      "Initital cost for 7 3.5536764342101264\n",
      "Final cost for 7 0.04994352327539777\n",
      "Initital cost for 8 3.4915722741588153\n",
      "Final cost for 8 0.14551726843369453\n",
      "Initital cost for 9 3.6157109785052644\n",
      "Final cost for 9 0.10602768814913766\n"
     ]
    },
    {
     "data": {
      "image/png": "[encoded data removed]",
      "text/plain": [
       "<Figure size 432x288 with 1 Axes>"
      ]
     },
     "metadata": {
      "needs_background": "light"
     },
     "output_type": "display_data"
    }
   ],
   "source": [
    "alpha = 0.00001\n",
    "for i in range(0, 10):\n",
    "    y = numpy.array(numpy.copy(train[:, 0]), dtype=float)\n",
    "    y[y != i] = 11\n",
    "    y[y == i] = 1\n",
    "    y[y == 11] = 0\n",
    "    X = numpy.array(train[:, 1:785], dtype=float)\n",
    "    currentTheta = numpy.array(theta[:, i], dtype=float)\n",
    "    m = X.shape[0]\n",
    "    cost = costFunction(currentTheta, X, y)\n",
    "    print(\"Initital cost for \" + str(i), cost)\n",
    "    plotX = [0]\n",
    "    plotY = [cost]\n",
    "    for iteration in range(0, 400):\n",
    "        preds = sigmoid.getSigmoid(numpy.matmul(X, currentTheta))\n",
    "        error = (preds - y).reshape(preds.shape+(1,))\n",
    "        grad = (numpy.matmul(X.transpose(), error) * 1/m)\n",
    "        # comment below implements gradient checking by estimating the derivative for theta #80\n",
    "        # this should be equal to grad[80] unless there is a bug\n",
    "        \n",
    "        # theta1 = numpy.copy(currentTheta)\n",
    "        # theta2 = numpy.copy(currentTheta)\n",
    "        # theta1[80] += 0.001\n",
    "        # theta2[80] -= 0.001\n",
    "        # print((costFunction(theta1, X, y) - costFunction(theta2, X, y)) / 0.002)\n",
    "        \n",
    "        grad = grad[:, 0]\n",
    "        currentTheta -= alpha * grad\n",
    "        plotX.append(iteration + 1)\n",
    "        plotY.append(costFunction(currentTheta, X, y))\n",
    "    print(\"Final cost for \" + str(i), costFunction(currentTheta, X, y))\n",
    "    theta[:, i]  = currentTheta\n",
    "    plot(plotX, plotY)"
   ]
  },
  {
   "cell_type": "code",
   "execution_count": 207,
   "id": "12777199-2773-4408-9cbd-6363db365299",
   "metadata": {},
   "outputs": [
    {
     "name": "stdout",
     "output_type": "stream",
     "text": [
      "0.893972972972973\n"
     ]
    }
   ],
   "source": [
    "testPreds = numpy.argmax(numpy.matmul(test[:, 1:], theta), axis=1)\n",
    "print(numpy.sum(testPreds == test[:, 0])/(test.shape[0]))"
   ]
  },
  {
   "cell_type": "markdown",
   "id": "80b678bb-5ab1-4e4f-b2f9-f5912274315a",
   "metadata": {},
   "source": [
    "**Logistic regression can guess the number with an accuracy of around 89%**"
   ]
  },
  {
   "cell_type": "code",
   "execution_count": 240,
   "id": "cbe5a6b9-6b2f-48ff-8d5b-f20d161596c1",
   "metadata": {},
   "outputs": [],
   "source": [
    "numpy.savetxt(\"weights.csv\", theta, delimiter=\",\")"
   ]
  },
  {
   "cell_type": "code",
   "execution_count": 241,
   "id": "0680d495-abd0-4c27-99ac-ab8c0c8348ef",
   "metadata": {},
   "outputs": [],
   "source": [
    "demoTest = numpy.loadtxt(open(\"test.csv\", \"rb\"), delimiter=\",\", skiprows=1)"
   ]
  },
  {
   "cell_type": "markdown",
   "id": "d1e72f03-1a91-458e-a022-8f5125f334d2",
   "metadata": {},
   "source": [
    "**Testing the model with a different unlabeled dataset**  <br />\n",
    "Overall it seems to be doing well considering that it is just a logistic regression model. But, it does make a few mistakes."
   ]
  },
  {
   "cell_type": "code",
   "execution_count": 243,
   "id": "0f4a4f63-7449-455b-b54d-0d7fb584e193",
   "metadata": {},
   "outputs": [],
   "source": [
    "currentDemoImage = 0\n",
    "def getNextDemoImage():\n",
    "    global currentDemoImage\n",
    "    img = Image.new('RGB', (28, 28))\n",
    "    print(demoTest[currentImage][0])\n",
    "    for x in range(784):\n",
    "        pixelvalue = round(demoTest[currentDemoImage][x])\n",
    "        img.putpixel((x%28, x//28), (pixelvalue,pixelvalue,pixelvalue))\n",
    "    currentDemoImage += 1\n",
    "    return img"
   ]
  },
  {
   "cell_type": "code",
   "execution_count": 244,
   "id": "02b0cfdf-d0d5-4768-9522-bb9f74376483",
   "metadata": {},
   "outputs": [
    {
     "name": "stdout",
     "output_type": "stream",
     "text": [
      "Guess 2\n",
      "0.0\n"
     ]
    },
    {
     "data": {
      "image/png": "[encoded data removed]",
      "text/plain": [
       "<Figure size 432x288 with 1 Axes>"
      ]
     },
     "metadata": {
      "needs_background": "light"
     },
     "output_type": "display_data"
    }
   ],
   "source": [
    "def getNextGuess():\n",
    "    print(\"Guess\", numpy.argmax(numpy.matmul(demoTest[currentDemoImage, :], theta)))\n",
    "    nxt = getNextDemoImage()\n",
    "    imshow(numpy.asarray(nxt))\n",
    "\n",
    "getNextGuess()"
   ]
  },
  {
   "cell_type": "code",
   "execution_count": 245,
   "id": "8ea5cb3e-6b22-42bd-bab0-fd847d5df9d2",
   "metadata": {},
   "outputs": [
    {
     "name": "stdout",
     "output_type": "stream",
     "text": [
      "Guess 0\n",
      "0.0\n"
     ]
    },
    {
     "data": {
      "image/png": "[encoded data removed]",
      "text/plain": [
       "<Figure size 432x288 with 1 Axes>"
      ]
     },
     "metadata": {
      "needs_background": "light"
     },
     "output_type": "display_data"
    }
   ],
   "source": [
    "getNextGuess()"
   ]
  },
  {
   "cell_type": "code",
   "execution_count": 246,
   "id": "e25fbc52-64f2-45ed-adb8-9f5b20fe47f9",
   "metadata": {},
   "outputs": [
    {
     "name": "stdout",
     "output_type": "stream",
     "text": [
      "Guess 9\n",
      "0.0\n"
     ]
    },
    {
     "data": {
      "image/png": "[encoded data removed]",
      "text/plain": [
       "<Figure size 432x288 with 1 Axes>"
      ]
     },
     "metadata": {
      "needs_background": "light"
     },
     "output_type": "display_data"
    }
   ],
   "source": [
    "getNextGuess()"
   ]
  },
  {
   "cell_type": "code",
   "execution_count": 247,
   "id": "43150504-4d34-4ce5-9f46-e72cb6aaa428",
   "metadata": {},
   "outputs": [
    {
     "name": "stdout",
     "output_type": "stream",
     "text": [
      "Guess 9\n",
      "0.0\n"
     ]
    },
    {
     "data": {
      "image/png": "[encoded data removed]",
      "text/plain": [
       "<Figure size 432x288 with 1 Axes>"
      ]
     },
     "metadata": {
      "needs_background": "light"
     },
     "output_type": "display_data"
    }
   ],
   "source": [
    "getNextGuess()"
   ]
  },
  {
   "cell_type": "code",
   "execution_count": 248,
   "id": "ada2d228-1758-4c9f-be2d-4862337e5efa",
   "metadata": {},
   "outputs": [
    {
     "name": "stdout",
     "output_type": "stream",
     "text": [
      "Guess 3\n",
      "0.0\n"
     ]
    },
    {
     "data": {
      "image/png": "[encoded data removed]",
      "text/plain": [
       "<Figure size 432x288 with 1 Axes>"
      ]
     },
     "metadata": {
      "needs_background": "light"
     },
     "output_type": "display_data"
    }
   ],
   "source": [
    "getNextGuess()"
   ]
  },
  {
   "cell_type": "code",
   "execution_count": 249,
   "id": "d75daf17-9fe2-4166-bdc3-430f4c11c288",
   "metadata": {},
   "outputs": [
    {
     "name": "stdout",
     "output_type": "stream",
     "text": [
      "Guess 7\n",
      "0.0\n"
     ]
    },
    {
     "data": {
      "image/png": "[encoded data removed]",
      "text/plain": [
       "<Figure size 432x288 with 1 Axes>"
      ]
     },
     "metadata": {
      "needs_background": "light"
     },
     "output_type": "display_data"
    }
   ],
   "source": [
    "getNextGuess()"
   ]
  },
  {
   "cell_type": "code",
   "execution_count": 250,
   "id": "585600a5-27cb-4262-9269-bca66e776e6c",
   "metadata": {},
   "outputs": [
    {
     "name": "stdout",
     "output_type": "stream",
     "text": [
      "Guess 0\n",
      "0.0\n"
     ]
    },
    {
     "data": {
      "image/png": "[encoded data removed]",
      "text/plain": [
       "<Figure size 432x288 with 1 Axes>"
      ]
     },
     "metadata": {
      "needs_background": "light"
     },
     "output_type": "display_data"
    }
   ],
   "source": [
    "getNextGuess()"
   ]
  },
  {
   "cell_type": "code",
   "execution_count": 251,
   "id": "0e5e3f9c-ed09-4b67-a014-2e5d801c587e",
   "metadata": {},
   "outputs": [
    {
     "name": "stdout",
     "output_type": "stream",
     "text": [
      "Guess 3\n",
      "0.0\n"
     ]
    },
    {
     "data": {
      "image/png": "[encoded data removed]",
      "text/plain": [
       "<Figure size 432x288 with 1 Axes>"
      ]
     },
     "metadata": {
      "needs_background": "light"
     },
     "output_type": "display_data"
    }
   ],
   "source": [
    "getNextGuess()"
   ]
  },
  {
   "cell_type": "code",
   "execution_count": 252,
   "id": "7f02f8d1-8469-4877-be54-03604b83a414",
   "metadata": {},
   "outputs": [
    {
     "name": "stdout",
     "output_type": "stream",
     "text": [
      "Guess 0\n",
      "0.0\n"
     ]
    },
    {
     "data": {
      "image/png": "[encoded data removed]",
      "text/plain": [
       "<Figure size 432x288 with 1 Axes>"
      ]
     },
     "metadata": {
      "needs_background": "light"
     },
     "output_type": "display_data"
    }
   ],
   "source": [
    "getNextGuess()"
   ]
  },
  {
   "cell_type": "code",
   "execution_count": 253,
   "id": "ebf2184e-a270-4391-92ae-9a03d9fffc2c",
   "metadata": {},
   "outputs": [
    {
     "name": "stdout",
     "output_type": "stream",
     "text": [
      "Guess 3\n",
      "0.0\n"
     ]
    },
    {
     "data": {
      "image/png": "[encoded data removed]",
      "text/plain": [
       "<Figure size 432x288 with 1 Axes>"
      ]
     },
     "metadata": {
      "needs_background": "light"
     },
     "output_type": "display_data"
    }
   ],
   "source": [
    "getNextGuess()"
   ]
  },
  {
   "cell_type": "code",
   "execution_count": 254,
   "id": "1d64d2b1-8c45-45ca-aedd-fb4f38039c50",
   "metadata": {},
   "outputs": [
    {
     "name": "stdout",
     "output_type": "stream",
     "text": [
      "Guess 5\n",
      "0.0\n"
     ]
    },
    {
     "data": {
      "image/png": "[encoded data removed]",
      "text/plain": [
       "<Figure size 432x288 with 1 Axes>"
      ]
     },
     "metadata": {
      "needs_background": "light"
     },
     "output_type": "display_data"
    }
   ],
   "source": [
    "getNextGuess()"
   ]
  },
  {
   "cell_type": "code",
   "execution_count": null,
   "id": "7b25452f-6359-4972-bf5c-c526c3810cd9",
   "metadata": {},
   "outputs": [],
   "source": []
  }
 ],
 "metadata": {
  "kernelspec": {
   "display_name": "venv",
   "language": "python",
   "name": "venv"
  },
  "language_info": {
   "codemirror_mode": {
    "name": "ipython",
    "version": 3
   },
   "file_extension": ".py",
   "mimetype": "text/x-python",
   "name": "python",
   "nbconvert_exporter": "python",
   "pygments_lexer": "ipython3",
   "version": "3.9.1"
  }
 },
 "nbformat": 4,
 "nbformat_minor": 5
}
